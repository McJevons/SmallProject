{
 "cells": [
  {
   "cell_type": "code",
   "execution_count": 1,
   "metadata": {},
   "outputs": [],
   "source": [
    "import numpy as np\n",
    "import pandas as pd\n",
    "import random\n",
    "import math"
   ]
  },
  {
   "cell_type": "code",
   "execution_count": 2,
   "metadata": {},
   "outputs": [],
   "source": [
    "def make_cards():\n",
    "    \"\"\"生成一副牌\"\"\"\n",
    "    card_suits = list('桃杏梅方')  # 花色列表\n",
    "    card_letter = {1: 'A', 11: 'J', 12: 'Q', 13: 'K'}  # 字母牌对应数字\n",
    "\n",
    "    # 建立A~K共13个字符格式的牌面值组成的列表\n",
    "    card_num = [card_letter[x] if x == 1 or x >\n",
    "                10 else str(x) for x in np.arange(1, 14)]\n",
    "\n",
    "    # 生成4种花色共52张牌的列表\n",
    "    cards = []\n",
    "    for suit in card_suits:\n",
    "        cards.extend([num+suit for num in card_num])\n",
    "\n",
    "    return cards"
   ]
  },
  {
   "cell_type": "code",
   "execution_count": 3,
   "metadata": {},
   "outputs": [],
   "source": [
    "def users(n=4):\n",
    "    \"\"\"建立用户，每个用户一个列表，用来存储发到的牌\"\"\"\n",
    "    user_num = n\n",
    "    user_cards = [[] for x in range(user_num)]\n",
    "    return user_cards"
   ]
  },
  {
   "cell_type": "code",
   "execution_count": 4,
   "metadata": {},
   "outputs": [],
   "source": [
    "def pop_one_card(cards):\n",
    "    \"\"\"随机pop出一张牌\"\"\"\n",
    "    id = random.randint(0, len(cards)-1)\n",
    "    return cards.pop(id)"
   ]
  },
  {
   "cell_type": "code",
   "execution_count": 5,
   "metadata": {},
   "outputs": [],
   "source": [
    "def get_user_card(user_num, user_cards):\n",
    "    \"\"\"迭代器，轮流返回每个用户列表\"\"\"\n",
    "    users_id = 0\n",
    "    while True:\n",
    "        if users_id < user_num:\n",
    "            yield user_cards[users_id]\n",
    "            users_id = users_id+1\n",
    "        else:\n",
    "            users_id = 0"
   ]
  },
  {
   "cell_type": "code",
   "execution_count": 6,
   "metadata": {},
   "outputs": [],
   "source": [
    "def deal_cards(cards, user_num, user_cards):\n",
    "    \"\"\"发牌\"\"\"\n",
    "    user_card = get_user_card(user_num, user_cards)\n",
    "    while len(cards) > 0:\n",
    "        user_card.__next__().append(pop_one_card(cards))"
   ]
  },
  {
   "cell_type": "code",
   "execution_count": 7,
   "metadata": {},
   "outputs": [],
   "source": [
    "def sort_cards(user_cards):\n",
    "    for x in range(len(user_cards)):\n",
    "        user_cards[x].sort()"
   ]
  },
  {
   "cell_type": "code",
   "execution_count": 8,
   "metadata": {},
   "outputs": [],
   "source": [
    "if __name__ == '__main__':\n",
    "    user_num = 6\n",
    "    cards = make_cards()\n",
    "    user_cards = users(user_num)\n",
    "    deal_cards(cards, user_num, user_cards)\n",
    "    sort_cards(user_cards)"
   ]
  },
  {
   "cell_type": "code",
   "execution_count": 9,
   "metadata": {},
   "outputs": [
    {
     "data": {
      "text/plain": [
       "[['2杏', '5方', '5杏', '6方', '6桃', '7桃', 'A梅', 'J桃', 'J梅'],\n",
       " ['3方', '3杏', '3梅', '4梅', '5梅', '7梅', '9杏', '9桃', 'J方'],\n",
       " ['2桃', '3桃', '4方', '7杏', '9梅', 'A杏', 'A桃', 'K桃', 'Q梅'],\n",
       " ['10梅', '2方', '6梅', '7方', '8桃', '9方', 'A方', 'J杏', 'K梅'],\n",
       " ['10杏', '10桃', '4杏', '5桃', '6杏', '8方', '8梅', 'K杏'],\n",
       " ['10方', '2梅', '4桃', '8杏', 'K方', 'Q方', 'Q杏', 'Q桃']]"
      ]
     },
     "execution_count": 9,
     "metadata": {},
     "output_type": "execute_result"
    }
   ],
   "source": [
    "user_cards"
   ]
  },
  {
   "cell_type": "code",
   "execution_count": null,
   "metadata": {},
   "outputs": [],
   "source": []
  }
 ],
 "metadata": {
  "kernelspec": {
   "display_name": "Python 3",
   "language": "python",
   "name": "python3"
  },
  "language_info": {
   "codemirror_mode": {
    "name": "ipython",
    "version": 3
   },
   "file_extension": ".py",
   "mimetype": "text/x-python",
   "name": "python",
   "nbconvert_exporter": "python",
   "pygments_lexer": "ipython3",
   "version": "3.7.0"
  }
 },
 "nbformat": 4,
 "nbformat_minor": 2
}
