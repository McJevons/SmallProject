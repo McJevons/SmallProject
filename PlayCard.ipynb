{
 "cells": [
  {
   "cell_type": "code",
   "execution_count": 61,
   "metadata": {},
   "outputs": [],
   "source": [
    "import numpy as np\n",
    "import pandas as pd\n",
    "import random\n",
    "import math"
   ]
  },
  {
   "cell_type": "code",
   "execution_count": 75,
   "metadata": {},
   "outputs": [],
   "source": [
    "card_suits=list('桃杏梅方') # 花色列表\n",
    "card_letter={1:'A',11:'J',12:'Q',13:'K'} # 字母牌对应数字\n",
    "\n",
    "# 建立A~K共13个字符格式的牌面值组成的列表\n",
    "card_num=[card_letter[x] if x==1 or x>10 else str(x) for x in np.arange(1,14)]\n",
    "\n",
    "# 生成4种花色共52张牌的列表\n",
    "cards=[]\n",
    "for suit in card_suits:\n",
    "    cards.extend([num+suit for num in card_num])\n",
    "left_cards=cards"
   ]
  },
  {
   "cell_type": "code",
   "execution_count": 76,
   "metadata": {},
   "outputs": [
    {
     "name": "stdout",
     "output_type": "stream",
     "text": [
      "[['8方', '9桃', 'J方', 'A梅', '2桃', 'K桃', '3梅', '6梅', 'K方', 'K杏', '2方']]\n",
      "[['8方', '9桃', 'J方', 'A梅', '2桃', 'K桃', '3梅', '6梅', 'K方', 'K杏', '2方'], ['8杏', 'A方', 'J桃', '8桃', '9梅', '10梅', '6方', '4梅', '4杏', '2杏', '5杏']]\n",
      "[['8方', '9桃', 'J方', 'A梅', '2桃', 'K桃', '3梅', '6梅', 'K方', 'K杏', '2方'], ['8杏', 'A方', 'J桃', '8桃', '9梅', '10梅', '6方', '4梅', '4杏', '2杏', '5杏'], ['7梅', '5方', '4桃', '9杏', '7桃', '5桃', '7杏', '10方', '3方', '4方', 'J梅']]\n",
      "[['8方', '9桃', 'J方', 'A梅', '2桃', 'K桃', '3梅', '6梅', 'K方', 'K杏', '2方'], ['8杏', 'A方', 'J桃', '8桃', '9梅', '10梅', '6方', '4梅', '4杏', '2杏', '5杏'], ['7梅', '5方', '4桃', '9杏', '7桃', '5桃', '7杏', '10方', '3方', '4方', 'J梅'], ['2梅', 'K梅', 'Q杏', '10桃', '6杏', 'Q桃', 'Q梅', '5梅', '9方', '6桃', '3桃']]\n",
      "牌不够了\n"
     ]
    }
   ],
   "source": [
    "users_num=5\n",
    "cards_num_each_user=math.ceil(52/users_num)\n",
    "\n",
    "user_cards=[]\n",
    "for x in range(users_num):\n",
    "    if len(left_cards)<=cards_num_each_user:\n",
    "        print('牌不够了')\n",
    "        break\n",
    "    get_cards=random.sample(left_cards,cards_num_each_user)\n",
    "    left_cards=list(set(left_cards)-set(get_cards))\n",
    "    user_cards.append(get_cards)\n",
    "    print(user_cards)"
   ]
  },
  {
   "cell_type": "code",
   "execution_count": 56,
   "metadata": {},
   "outputs": [
    {
     "data": {
      "text/html": [
       "<div>\n",
       "<style scoped>\n",
       "    .dataframe tbody tr th:only-of-type {\n",
       "        vertical-align: middle;\n",
       "    }\n",
       "\n",
       "    .dataframe tbody tr th {\n",
       "        vertical-align: top;\n",
       "    }\n",
       "\n",
       "    .dataframe thead th {\n",
       "        text-align: right;\n",
       "    }\n",
       "</style>\n",
       "<table border=\"1\" class=\"dataframe\">\n",
       "  <thead>\n",
       "    <tr style=\"text-align: right;\">\n",
       "      <th></th>\n",
       "    </tr>\n",
       "  </thead>\n",
       "  <tbody>\n",
       "  </tbody>\n",
       "</table>\n",
       "</div>"
      ],
      "text/plain": [
       "Empty DataFrame\n",
       "Columns: []\n",
       "Index: []"
      ]
     },
     "execution_count": 56,
     "metadata": {},
     "output_type": "execute_result"
    }
   ],
   "source": [
    "pd.DataFrame(user_cards)"
   ]
  },
  {
   "cell_type": "code",
   "execution_count": 67,
   "metadata": {},
   "outputs": [
    {
     "data": {
      "text/plain": [
       "11"
      ]
     },
     "execution_count": 67,
     "metadata": {},
     "output_type": "execute_result"
    }
   ],
   "source": [
    "users_num=5\n",
    "cards_num_each_user=math.ceil(52/users_num)\n",
    "cards_num_each_user"
   ]
  },
  {
   "cell_type": "code",
   "execution_count": 71,
   "metadata": {},
   "outputs": [
    {
     "data": {
      "text/plain": [
       "[]"
      ]
     },
     "execution_count": 71,
     "metadata": {},
     "output_type": "execute_result"
    }
   ],
   "source": [
    "left_cards"
   ]
  },
  {
   "cell_type": "code",
   "execution_count": null,
   "metadata": {},
   "outputs": [],
   "source": []
  }
 ],
 "metadata": {
  "kernelspec": {
   "display_name": "Python 3",
   "language": "python",
   "name": "python3"
  },
  "language_info": {
   "codemirror_mode": {
    "name": "ipython",
    "version": 3
   },
   "file_extension": ".py",
   "mimetype": "text/x-python",
   "name": "python",
   "nbconvert_exporter": "python",
   "pygments_lexer": "ipython3",
   "version": "3.7.0"
  }
 },
 "nbformat": 4,
 "nbformat_minor": 2
}
